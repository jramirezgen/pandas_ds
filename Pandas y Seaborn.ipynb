{
 "cells": [
  {
   "cell_type": "markdown",
   "metadata": {},
   "source": [
    "## Instalando pandas\n",
    "\n",
    "Para instalar pandas, podemos usar condas o pip, dependiendo de la configuración de nuestro entorno de desarrollo.\n",
    "\n",
    "`conda install pandas`\n",
    "\n",
    "o\n",
    "\n",
    "`pip install pandas`\n",
    "\n",
    "Por ejemplo, podemos ejecutar:"
   ]
  },
  {
   "cell_type": "code",
   "execution_count": null,
   "metadata": {},
   "outputs": [],
   "source": [
    "!conda install pandas"
   ]
  },
  {
   "cell_type": "markdown",
   "metadata": {},
   "source": [
    "el signo ! indica que estamos ejecutando un commando del sistema.\n",
    "\n",
    "Luego, importamos pandas usando la abreviación pd.\n",
    "En python se recomienda importar paquetes usando abreviaciones para evitar conflictos con otros paquetes. Usualmente hay abrevaciones estandares para usar los paquetes. En el caso de pandas pd es la abreviación estandar.\n"
   ]
  },
  {
   "cell_type": "code",
   "execution_count": 4,
   "metadata": {},
   "outputs": [],
   "source": [
    "import pandas as pd"
   ]
  },
  {
   "cell_type": "markdown",
   "metadata": {},
   "source": [
    "## Entendiendo pandas\n",
    "\n",
    "Los componentes principales de pandas son: Series y DataFrames \n",
    "\n",
    "![alt text](https://github.com/adam-p/markdown-here/raw/master/src/common/images/icon48.png \"Logo Title Text 1\")\n",
    "\n"
   ]
  },
  {
   "cell_type": "code",
   "execution_count": null,
   "metadata": {},
   "outputs": [],
   "source": []
  }
 ],
 "metadata": {
  "kernelspec": {
   "display_name": "Python 3",
   "language": "python",
   "name": "python3"
  },
  "language_info": {
   "codemirror_mode": {
    "name": "ipython",
    "version": 3
   },
   "file_extension": ".py",
   "mimetype": "text/x-python",
   "name": "python",
   "nbconvert_exporter": "python",
   "pygments_lexer": "ipython3",
   "version": "3.7.6"
  }
 },
 "nbformat": 4,
 "nbformat_minor": 4
}
